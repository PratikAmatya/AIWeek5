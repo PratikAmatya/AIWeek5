{
 "cells": [
  {
   "cell_type": "markdown",
   "metadata": {},
   "source": [
    "# Predicting house prices with Linear Rergression\n",
    "\n",
    "In this notebook you will learn how to predict the price of a house given it's area."
   ]
  },
  {
   "cell_type": "code",
   "execution_count": 1,
   "metadata": {},
   "outputs": [],
   "source": [
    "import numpy as np\n",
    "import matplotlib.pyplot as plt"
   ]
  },
  {
   "cell_type": "markdown",
   "metadata": {},
   "source": [
    "Please refer the following documentation for detail information about `matplotlib` library\n",
    "\n",
    "- [matplotlib](https://matplotlib.org/)"
   ]
  },
  {
   "cell_type": "markdown",
   "metadata": {},
   "source": [
    "## Below are some imaginary data points\n",
    "\n",
    "> X = Area of the house in square feet\n",
    "\n",
    "> Y = Price of the house in 1000s (for eg. 1805 means $1805K)"
   ]
  },
  {
   "cell_type": "code",
   "execution_count": 2,
   "metadata": {},
   "outputs": [],
   "source": [
    "# area of the houses\n",
    "X = np.array([300,  210,  190,  310,  420,  500,  390,  550,  600, 250]) \n",
    "# price of the houses\n",
    "Y = np.array([1805, 1235, 1375, 1735, 2065, 2105, 2275, 2455, 2400, 1555]) "
   ]
  },
  {
   "cell_type": "code",
   "execution_count": 3,
   "metadata": {},
   "outputs": [
    {
     "data": {
      "text/plain": [
       "numpy.ndarray"
      ]
     },
     "execution_count": 3,
     "metadata": {},
     "output_type": "execute_result"
    }
   ],
   "source": [
    "type(X)"
   ]
  },
  {
   "cell_type": "code",
   "execution_count": 4,
   "metadata": {},
   "outputs": [
    {
     "data": {
      "text/plain": [
       "array([ 600,  420,  380,  620,  840, 1000,  780, 1100, 1200,  500])"
      ]
     },
     "execution_count": 4,
     "metadata": {},
     "output_type": "execute_result"
    }
   ],
   "source": [
    "X * 2"
   ]
  },
  {
   "cell_type": "code",
   "execution_count": 5,
   "metadata": {},
   "outputs": [
    {
     "data": {
      "text/plain": [
       "array([301, 211, 191, 311, 421, 501, 391, 551, 601, 251])"
      ]
     },
     "execution_count": 5,
     "metadata": {},
     "output_type": "execute_result"
    }
   ],
   "source": [
    "X + 1"
   ]
  },
  {
   "cell_type": "code",
   "execution_count": 6,
   "metadata": {},
   "outputs": [
    {
     "data": {
      "text/plain": [
       "array([2105, 1445, 1565, 2045, 2485, 2605, 2665, 3005, 3000, 1805])"
      ]
     },
     "execution_count": 6,
     "metadata": {},
     "output_type": "execute_result"
    }
   ],
   "source": [
    "X + Y"
   ]
  },
  {
   "cell_type": "code",
   "execution_count": 7,
   "metadata": {},
   "outputs": [
    {
     "data": {
      "text/plain": [
       "3720"
      ]
     },
     "execution_count": 7,
     "metadata": {},
     "output_type": "execute_result"
    }
   ],
   "source": [
    "X.sum()"
   ]
  },
  {
   "cell_type": "code",
   "execution_count": 8,
   "metadata": {},
   "outputs": [
    {
     "data": {
      "text/plain": [
       "600"
      ]
     },
     "execution_count": 8,
     "metadata": {},
     "output_type": "execute_result"
    }
   ],
   "source": [
    "X.max()"
   ]
  },
  {
   "cell_type": "markdown",
   "metadata": {},
   "source": [
    "## Plot the datapoints using matplotlib\n",
    "\n",
    "Notice the relationship between the area and price. As the area is increasing the price is also gradually increasing."
   ]
  },
  {
   "cell_type": "code",
   "execution_count": 9,
   "metadata": {},
   "outputs": [
    {
     "data": {
      "text/plain": [
       "(1000.0, 3000.0)"
      ]
     },
     "execution_count": 9,
     "metadata": {},
     "output_type": "execute_result"
    },
    {
     "data": {
      "image/png": "[encoded data removed]",
      "text/plain": [
       "<Figure size 432x288 with 1 Axes>"
      ]
     },
     "metadata": {
      "needs_background": "light"
     },
     "output_type": "display_data"
    }
   ],
   "source": [
    "plt.plot(X, Y, \"*\") # plot the points\n",
    "plt.xlabel(\"Area of house\") # set label for x axis\n",
    "plt.ylabel(\"Price of the house\") # set label for y axis\n",
    "plt.xlim([100, 700]) # set the limits for x axis\n",
    "plt.ylim([1000, 3000]) # set the limits for y axis"
   ]
  },
  {
   "cell_type": "markdown",
   "metadata": {},
   "source": [
    "## Using scikit-learn build a linear regression model which will best describe the above data points"
   ]
  },
  {
   "cell_type": "code",
   "execution_count": 10,
   "metadata": {},
   "outputs": [
    {
     "data": {
      "text/plain": [
       "array([300, 210, 190, 310, 420, 500, 390, 550, 600, 250])"
      ]
     },
     "execution_count": 10,
     "metadata": {},
     "output_type": "execute_result"
    }
   ],
   "source": [
    "X"
   ]
  },
  {
   "cell_type": "code",
   "execution_count": 11,
   "metadata": {},
   "outputs": [
    {
     "data": {
      "text/plain": [
       "array([[300],\n",
       "       [210],\n",
       "       [190],\n",
       "       [310],\n",
       "       [420],\n",
       "       [500],\n",
       "       [390],\n",
       "       [550],\n",
       "       [600],\n",
       "       [250]])"
      ]
     },
     "execution_count": 11,
     "metadata": {},
     "output_type": "execute_result"
    }
   ],
   "source": [
    "X.reshape(-1, 1)"
   ]
  },
  {
   "cell_type": "markdown",
   "metadata": {},
   "source": [
    "## Train Linear regression model"
   ]
  },
  {
   "cell_type": "code",
   "execution_count": 12,
   "metadata": {},
   "outputs": [
    {
     "data": {
      "text/plain": [
       "LinearRegression()"
      ]
     },
     "execution_count": 12,
     "metadata": {},
     "output_type": "execute_result"
    }
   ],
   "source": [
    "# import the linear regression model\n",
    "from sklearn.linear_model import LinearRegression \n",
    "# fit the model with our data, see for yourself what reshape(-1, 1) does to a list\n",
    "model = LinearRegression()\n",
    "model.fit(X.reshape(-1, 1), Y)"
   ]
  },
  {
   "cell_type": "markdown",
   "metadata": {},
   "source": [
    "#### Extract the parameters of the model"
   ]
  },
  {
   "cell_type": "code",
   "execution_count": 13,
   "metadata": {},
   "outputs": [],
   "source": [
    "# get the value of m\n",
    "m_model = model.coef_[0]\n",
    "# get the value of c\n",
    "c_model = model.intercept_ "
   ]
  },
  {
   "cell_type": "code",
   "execution_count": 14,
   "metadata": {},
   "outputs": [
    {
     "data": {
      "text/plain": [
       "array([2.77554313])"
      ]
     },
     "execution_count": 14,
     "metadata": {},
     "output_type": "execute_result"
    }
   ],
   "source": [
    "model.coef_"
   ]
  },
  {
   "cell_type": "code",
   "execution_count": 15,
   "metadata": {},
   "outputs": [
    {
     "data": {
      "text/plain": [
       "867.9979565497961"
      ]
     },
     "execution_count": 15,
     "metadata": {},
     "output_type": "execute_result"
    }
   ],
   "source": [
    "model.intercept_"
   ]
  },
  {
   "cell_type": "markdown",
   "metadata": {},
   "source": [
    "## Plot the points and the line given by the model"
   ]
  },
  {
   "cell_type": "code",
   "execution_count": 16,
   "metadata": {},
   "outputs": [
    {
     "data": {
      "text/plain": [
       "(1000.0, 3000.0)"
      ]
     },
     "execution_count": 16,
     "metadata": {},
     "output_type": "execute_result"
    },
    {
     "data": {
      "image/png": "[encoded data removed]",
      "text/plain": [
       "<Figure size 432x288 with 1 Axes>"
      ]
     },
     "metadata": {
      "needs_background": "light"
     },
     "output_type": "display_data"
    }
   ],
   "source": [
    "# get the values of y as predicted by the model, using the equation y = mx + c\n",
    "y_model = np.array([m_model * x + c_model for x in X]) \n",
    "# plot the points\n",
    "plt.plot(X, Y, \"*\") \n",
    "# plot the straight line given by the linear regression model\n",
    "plt.plot(X, y_model) \n",
    "# set label for x axis\n",
    "plt.xlabel(\"Area of house\") \n",
    "# set label for y axis\n",
    "plt.ylabel(\"Price of the house\") \n",
    "# set the limits for x axis\n",
    "plt.xlim([100, 700]) \n",
    "# set the limits for y axis\n",
    "plt.ylim([1000, 3000]) "
   ]
  },
  {
   "cell_type": "markdown",
   "metadata": {},
   "source": [
    "## Predicting house prices given the area of the house\n",
    "\n",
    "Set the desired area below and run the cell to get the predicted price of the house"
   ]
  },
  {
   "cell_type": "code",
   "execution_count": 17,
   "metadata": {},
   "outputs": [
    {
     "name": "stdout",
     "output_type": "stream",
     "text": [
      "The predicted price for the house with area 900 sq.ft is $3365.99K\n"
     ]
    }
   ],
   "source": [
    "area = 900\n",
    "# y = mx + c\n",
    "price = m_model * area + c_model \n",
    "\n",
    "print(\"The predicted price for the house with area %d sq.ft is $%.2fK\" % (area, price))"
   ]
  },
  {
   "cell_type": "markdown",
   "metadata": {},
   "source": [
    "# Build the linear regression model yourself\n",
    "Now you are required to code the equations to find out the values for $\\beta_{0}$ and $\\beta_{1}$ of the linear regression model using the above data. \n",
    "Remember the formula for calculating the parameters are:\n",
    "$$\\beta_{1}=\\frac {\\sum_{i=1}^{n} y_i x_i - \\frac{1}{n} \\sum_{i=1}^{n} y_i \\sum_{i=1}^{n} x_i} {\\sum_{i=1}^{n} x_i^2 - \\frac{1}{n} \\sum_{i=1}^{n} x_i \\sum_{i=1}^{n} x_i}$$\n",
    "$$\\beta_{0} = \\frac{1}{n} \\sum_{i=1}^{n} y_i - \\beta_{1} \\frac{1}{n} \\sum_{i=1}^{n} x_i$$\n",
    "After finding out the values of $\\beta_{0}$ and $\\beta_{1}$, plot the graph of the straight line given by the equation \n",
    "$$y = \\beta_{0}+\\beta_{1}x$$"
   ]
  },
  {
   "cell_type": "code",
   "execution_count": 18,
   "metadata": {},
   "outputs": [
    {
     "data": {
      "text/plain": [
       "array([300, 210, 190, 310, 420, 500, 390, 550, 600, 250])"
      ]
     },
     "execution_count": 18,
     "metadata": {},
     "output_type": "execute_result"
    }
   ],
   "source": [
    "X"
   ]
  },
  {
   "cell_type": "code",
   "execution_count": 19,
   "metadata": {},
   "outputs": [
    {
     "data": {
      "text/plain": [
       "array([1805, 1235, 1375, 1735, 2065, 2105, 2275, 2455, 2400, 1555])"
      ]
     },
     "execution_count": 19,
     "metadata": {},
     "output_type": "execute_result"
    }
   ],
   "source": [
    "Y"
   ]
  },
  {
   "cell_type": "code",
   "execution_count": 20,
   "metadata": {},
   "outputs": [
    {
     "data": {
      "text/plain": [
       "array([ 541500,  259350,  261250,  537850,  867300, 1052500,  887250,\n",
       "       1350250, 1440000,  388750])"
      ]
     },
     "execution_count": 20,
     "metadata": {},
     "output_type": "execute_result"
    }
   ],
   "source": [
    "X*Y"
   ]
  },
  {
   "cell_type": "code",
   "execution_count": 21,
   "metadata": {},
   "outputs": [
    {
     "data": {
      "text/plain": [
       "7586000"
      ]
     },
     "execution_count": 21,
     "metadata": {},
     "output_type": "execute_result"
    }
   ],
   "source": [
    "(X*Y).sum()"
   ]
  },
  {
   "cell_type": "code",
   "execution_count": 22,
   "metadata": {},
   "outputs": [
    {
     "data": {
      "text/plain": [
       "array([ 90000,  44100,  36100,  96100, 176400, 250000, 152100, 302500,\n",
       "       360000,  62500], dtype=int32)"
      ]
     },
     "execution_count": 22,
     "metadata": {},
     "output_type": "execute_result"
    }
   ],
   "source": [
    "X**2"
   ]
  },
  {
   "cell_type": "code",
   "execution_count": 23,
   "metadata": {},
   "outputs": [
    {
     "data": {
      "text/plain": [
       "1569800"
      ]
     },
     "execution_count": 23,
     "metadata": {},
     "output_type": "execute_result"
    }
   ],
   "source": [
    "(X**2).sum()"
   ]
  },
  {
   "cell_type": "markdown",
   "metadata": {},
   "source": [
    "### Compute $ \\beta_1$"
   ]
  },
  {
   "cell_type": "code",
   "execution_count": 24,
   "metadata": {},
   "outputs": [
    {
     "data": {
      "text/plain": [
       "2.7755431275543128"
      ]
     },
     "execution_count": 24,
     "metadata": {},
     "output_type": "execute_result"
    }
   ],
   "source": [
    "n = len(X)\n",
    "## Write your code\n",
    "\n",
    "b_1"
   ]
  },
  {
   "cell_type": "markdown",
   "metadata": {},
   "source": [
    "### Compute $ \\beta_0$"
   ]
  },
  {
   "cell_type": "code",
   "execution_count": 25,
   "metadata": {},
   "outputs": [
    {
     "data": {
      "text/plain": [
       "867.9979565497956"
      ]
     },
     "execution_count": 25,
     "metadata": {},
     "output_type": "execute_result"
    }
   ],
   "source": [
    "## Write your code\n",
    "\n",
    "b_0"
   ]
  },
  {
   "cell_type": "code",
   "execution_count": 26,
   "metadata": {},
   "outputs": [
    {
     "data": {
      "text/plain": [
       "array([1700.66089482, 1450.86201334, 1395.35115079, 1728.41632609,\n",
       "       2033.72607012, 2255.76952033, 1950.4597763 , 2394.5466767 ,\n",
       "       2533.32383308, 1561.88373844])"
      ]
     },
     "execution_count": 26,
     "metadata": {},
     "output_type": "execute_result"
    }
   ],
   "source": [
    "Y_ = np.array([b_0+b_1*x for x in X])\n",
    "Y_"
   ]
  },
  {
   "cell_type": "code",
   "execution_count": 27,
   "metadata": {},
   "outputs": [
    {
     "data": {
      "text/plain": [
       "Text(0, 0.5, 'Y')"
      ]
     },
     "execution_count": 27,
     "metadata": {},
     "output_type": "execute_result"
    },
    {
     "data": {
      "image/png": "[encoded data removed]",
      "text/plain": [
       "<Figure size 432x288 with 1 Axes>"
      ]
     },
     "metadata": {
      "needs_background": "light"
     },
     "output_type": "display_data"
    }
   ],
   "source": [
    "plt.plot(X, Y, \"*\") \n",
    "# plot the straight line given by the linear regression model\n",
    "plt.plot(X,Y_)\n",
    "plt.xlabel(\"X\")\n",
    "plt.ylabel(\"Y\")\n",
    "# plt.xlim([0,12])\n",
    "# plt.ylim([0,18])"
   ]
  },
  {
   "cell_type": "markdown",
   "metadata": {},
   "source": [
    "#### Write your observations!"
   ]
  },
  {
   "cell_type": "code",
   "execution_count": null,
   "metadata": {},
   "outputs": [],
   "source": []
  }
 ],
 "metadata": {
  "kernelspec": {
   "display_name": "Python 3",
   "language": "python",
   "name": "python3"
  },
  "language_info": {
   "codemirror_mode": {
    "name": "ipython",
    "version": 3
   },
   "file_extension": ".py",
   "mimetype": "text/x-python",
   "name": "python",
   "nbconvert_exporter": "python",
   "pygments_lexer": "ipython3",
   "version": "3.8.8"
  }
 },
 "nbformat": 4,
 "nbformat_minor": 4
}
